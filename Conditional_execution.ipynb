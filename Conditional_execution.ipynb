{
  "nbformat": 4,
  "nbformat_minor": 0,
  "metadata": {
    "colab": {
      "name": "Conditional execution.ipynb",
      "provenance": [],
      "collapsed_sections": [],
      "authorship_tag": "ABX9TyNojaovxWAp9XzRR12Iy/sq",
      "include_colab_link": true
    },
    "kernelspec": {
      "name": "python3",
      "display_name": "Python 3"
    },
    "language_info": {
      "name": "python"
    }
  },
  "cells": [
    {
      "cell_type": "markdown",
      "metadata": {
        "id": "view-in-github",
        "colab_type": "text"
      },
      "source": [
        "<a href=\"https://colab.research.google.com/github/deepak-dewani/Python-for-everybody/blob/main/Conditional_execution.ipynb\" target=\"_parent\"><img src=\"https://colab.research.google.com/assets/colab-badge.svg\" alt=\"Open In Colab\"/></a>"
      ]
    },
    {
      "cell_type": "markdown",
      "source": [
        "# **Chapter - Python For Everybody**\n",
        "\n",
        "# **Conditional execution**\n",
        "\n",
        "In order to write useful programs, we almost always need the ability to check conditions and change the behavior of the program accordingly. Conditional statements give us this ability. The simplest form is the if statement:"
      ],
      "metadata": {
        "id": "bna8VVqiuxGi"
      }
    },
    {
      "cell_type": "code",
      "execution_count": 2,
      "metadata": {
        "colab": {
          "base_uri": "https://localhost:8080/"
        },
        "id": "P3wCEbcQuYWC",
        "outputId": "5509b4f1-dee1-4534-ba49-b088a93ca48a"
      },
      "outputs": [
        {
          "output_type": "stream",
          "name": "stdout",
          "text": [
            "x is positive\n"
          ]
        }
      ],
      "source": [
        "x = 5\n",
        "if x > 0 :\n",
        "    print('x is positive')"
      ]
    },
    {
      "cell_type": "markdown",
      "source": [
        "# **Use of IF and ELSE Conditions**"
      ],
      "metadata": {
        "id": "emVSm0zkwO62"
      }
    },
    {
      "cell_type": "code",
      "source": [
        "# Conditional Operator\n",
        "# Check the number is greater than 20 or not?\n",
        "\n",
        "x = int(input(\"Enter the number: \"))\n",
        "if x < 20:\n",
        "  print(\"Number is smaller than 20\")\n",
        "else:\n",
        "  print(\"Number is larger than 20\")"
      ],
      "metadata": {
        "colab": {
          "base_uri": "https://localhost:8080/"
        },
        "id": "G-Zg6P3vvObn",
        "outputId": "88bbc4d7-8e16-48fe-deb0-8b55c37d7d2c"
      },
      "execution_count": 4,
      "outputs": [
        {
          "output_type": "stream",
          "name": "stdout",
          "text": [
            "Enter the number: 5\n",
            "Number is smaller than 20\n"
          ]
        }
      ]
    },
    {
      "cell_type": "markdown",
      "source": [
        "# **Use of IF, ELSE and ELIF Conditions**"
      ],
      "metadata": {
        "id": "Oyke-FBCwrnr"
      }
    },
    {
      "cell_type": "code",
      "source": [
        "# Conditional Operator\n",
        "# Check the number is greater than 20 or not?\n",
        "\n",
        "x = int(input(\"Enter the number: \"))\n",
        "if x < 20:\n",
        "  print(\"Number is smaller than 20\")\n",
        "elif x ==20:\n",
        "  print(\"Number is 20\")\n",
        "else:\n",
        "  print(\"Number is larger than 20\")"
      ],
      "metadata": {
        "colab": {
          "base_uri": "https://localhost:8080/"
        },
        "id": "6lRZtEvUv7mo",
        "outputId": "5a713b32-7b8b-46c1-ae19-ebb4fd0dfa7e"
      },
      "execution_count": 5,
      "outputs": [
        {
          "output_type": "stream",
          "name": "stdout",
          "text": [
            "Enter the number: 10\n",
            "Number is smaller than 20\n"
          ]
        }
      ]
    },
    {
      "cell_type": "markdown",
      "source": [
        "# **Repeated Operators**"
      ],
      "metadata": {
        "id": "P7hZP102xGKZ"
      }
    },
    {
      "cell_type": "code",
      "source": [
        "x = int(input(\"Enter the number: \"))\n",
        "while x > 0:\n",
        "  print(x)\n",
        "  x = x - 1\n",
        "print(\"Endpoint!!\")"
      ],
      "metadata": {
        "colab": {
          "base_uri": "https://localhost:8080/"
        },
        "id": "16e8MSNQwzJX",
        "outputId": "f6a45f23-5cf4-4928-bc04-0420aaaee097"
      },
      "execution_count": 6,
      "outputs": [
        {
          "output_type": "stream",
          "name": "stdout",
          "text": [
            "Enter the number: 5\n",
            "5\n",
            "4\n",
            "3\n",
            "2\n",
            "1\n",
            "Endpoint!!\n"
          ]
        }
      ]
    },
    {
      "cell_type": "markdown",
      "source": [
        "**Write a program to find out the number is odd or even??**"
      ],
      "metadata": {
        "id": "DpY4Ldqexkxw"
      }
    },
    {
      "cell_type": "code",
      "source": [
        "#Odd and Even numbers\n",
        "# Write a program to print the number is even or odd?\n",
        "\n",
        "num = int(input(\"Enter the number: \"))\n",
        "if num%2==0:\n",
        "  print(\"Number is even\")\n",
        "else:\n",
        "  print(\"Number is odd\")"
      ],
      "metadata": {
        "colab": {
          "base_uri": "https://localhost:8080/"
        },
        "id": "PdMb2eKFxMh6",
        "outputId": "1d51970b-9cdf-4190-ff58-9f530c41245a"
      },
      "execution_count": 7,
      "outputs": [
        {
          "output_type": "stream",
          "name": "stdout",
          "text": [
            "Enter the number: 56\n",
            "Number is even\n"
          ]
        }
      ]
    }
  ]
}