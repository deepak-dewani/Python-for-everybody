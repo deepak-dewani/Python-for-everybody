{
  "nbformat": 4,
  "nbformat_minor": 0,
  "metadata": {
    "colab": {
      "name": "odd_even.ipynb",
      "provenance": [],
      "authorship_tag": "ABX9TyPZKn39BCgb0JGoY0EHnV4i",
      "include_colab_link": true
    },
    "kernelspec": {
      "name": "python3",
      "display_name": "Python 3"
    },
    "language_info": {
      "name": "python"
    }
  },
  "cells": [
    {
      "cell_type": "markdown",
      "metadata": {
        "id": "view-in-github",
        "colab_type": "text"
      },
      "source": [
        "<a href=\"https://colab.research.google.com/github/deepak-dewani/Python-for-everybody/blob/main/03.odd_even.ipynb\" target=\"_parent\"><img src=\"https://colab.research.google.com/assets/colab-badge.svg\" alt=\"Open In Colab\"/></a>"
      ]
    },
    {
      "cell_type": "code",
      "execution_count": null,
      "metadata": {
        "colab": {
          "base_uri": "https://localhost:8080/"
        },
        "id": "17H68tHJSzd4",
        "outputId": "4817549a-c5f9-45e2-dfd1-a40b732985cb"
      },
      "outputs": [
        {
          "output_type": "stream",
          "name": "stdout",
          "text": [
            "Enter the number: 123\n",
            "Number is odd\n"
          ]
        }
      ],
      "source": [
        "#Odd and Even numbers\n",
        "# Write a program to print the number is even or odd?\n",
        "\n",
        "num = int(input(\"Enter the number: \"))\n",
        "if num%2==0:\n",
        "  print(\"Number is even\")\n",
        "else:\n",
        "  print(\"Number is odd\")\n"
      ]
    }
  ]
}