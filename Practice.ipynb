{
  "nbformat": 4,
  "nbformat_minor": 0,
  "metadata": {
    "colab": {
      "name": "Practice.ipynb",
      "provenance": [],
      "collapsed_sections": [],
      "authorship_tag": "ABX9TyPLIccybM5JFKUWNsi8WkhE",
      "include_colab_link": true
    },
    "kernelspec": {
      "name": "python3",
      "display_name": "Python 3"
    },
    "language_info": {
      "name": "python"
    }
  },
  "cells": [
    {
      "cell_type": "markdown",
      "metadata": {
        "id": "view-in-github",
        "colab_type": "text"
      },
      "source": [
        "<a href=\"https://colab.research.google.com/github/deepak-dewani/Python-for-everybody/blob/main/Practice.ipynb\" target=\"_parent\"><img src=\"https://colab.research.google.com/assets/colab-badge.svg\" alt=\"Open In Colab\"/></a>"
      ]
    },
    {
      "cell_type": "markdown",
      "source": [
        "**Practice Session**"
      ],
      "metadata": {
        "id": "BD1urBQadiLT"
      }
    },
    {
      "cell_type": "markdown",
      "source": [
        "Printing the Hello World"
      ],
      "metadata": {
        "id": "BozPTXgUdr3g"
      }
    },
    {
      "cell_type": "code",
      "execution_count": null,
      "metadata": {
        "colab": {
          "base_uri": "https://localhost:8080/"
        },
        "id": "y7ABXj-GKeX5",
        "outputId": "dd8cf166-a64f-447b-9e42-c4c835927c10"
      },
      "outputs": [
        {
          "output_type": "stream",
          "name": "stdout",
          "text": [
            "Hello World\n",
            "Welcome to Bootcamp\n"
          ]
        }
      ],
      "source": [
        "#Printing the Hello World\n",
        "\n",
        "print(\"Hello World\")\n",
        "\n",
        "\n",
        "print(\"Welcome to Bootcamp\")"
      ]
    },
    {
      "cell_type": "markdown",
      "source": [
        "Assignment and Addition"
      ],
      "metadata": {
        "id": "Ab8SLa8Hd_FX"
      }
    },
    {
      "cell_type": "code",
      "source": [
        "#Assignment and Addition \n",
        "\n",
        "x =2\n",
        "x= x+2\n",
        "print(x)"
      ],
      "metadata": {
        "colab": {
          "base_uri": "https://localhost:8080/"
        },
        "id": "hKK_IVJ4KlkP",
        "outputId": "c647b287-aad5-4f8f-8158-e4d1ae80d322"
      },
      "execution_count": null,
      "outputs": [
        {
          "output_type": "stream",
          "name": "stdout",
          "text": [
            "4\n"
          ]
        }
      ]
    },
    {
      "cell_type": "markdown",
      "source": [
        "User Input"
      ],
      "metadata": {
        "id": "5g7nAeWUeTcz"
      }
    },
    {
      "cell_type": "code",
      "source": [
        "a = input(\"Enter your Name: \")\n",
        "print(\"Your name is\", a)\n",
        "b= input(\"Enter your age: \")\n",
        "print(\"Your age is \",b)\n",
        "c= input(\"Enter your Date of birth: \")\n",
        "print(\"Your D.O.B is\", c)\n"
      ],
      "metadata": {
        "colab": {
          "base_uri": "https://localhost:8080/"
        },
        "id": "3eekmAAzKtMT",
        "outputId": "43734c78-c400-4ee5-a586-73227719b6fe"
      },
      "execution_count": null,
      "outputs": [
        {
          "output_type": "stream",
          "name": "stdout",
          "text": [
            "Enter your Name: Deepak\n",
            "Your name is Deepak\n",
            "Enter your age: 28\n",
            "Your age is  28\n",
            "Enter your Date of birth: 21.09.1994\n",
            "Your D.O.B is 21.09.1994\n"
          ]
        }
      ]
    },
    {
      "cell_type": "markdown",
      "source": [
        "Variable, Statement and Expression\n"
      ],
      "metadata": {
        "id": "5kDpVtlYfR6d"
      }
    },
    {
      "cell_type": "code",
      "source": [
        "a = 27\n",
        "print(a)"
      ],
      "metadata": {
        "colab": {
          "base_uri": "https://localhost:8080/"
        },
        "id": "PpUEsKbrLAxN",
        "outputId": "35e2fd0e-8aaf-4975-a5c8-5a5f45792612"
      },
      "execution_count": null,
      "outputs": [
        {
          "output_type": "stream",
          "name": "stdout",
          "text": [
            "27\n"
          ]
        }
      ]
    },
    {
      "cell_type": "code",
      "source": [
        "b = '123'\n",
        "print(b)\n",
        "type(b)"
      ],
      "metadata": {
        "colab": {
          "base_uri": "https://localhost:8080/"
        },
        "id": "dV_-E9ZkLldR",
        "outputId": "3ba0f035-b734-4909-c76e-fd1c042edcec"
      },
      "execution_count": null,
      "outputs": [
        {
          "output_type": "stream",
          "name": "stdout",
          "text": [
            "123\n"
          ]
        },
        {
          "output_type": "execute_result",
          "data": {
            "text/plain": [
              "str"
            ]
          },
          "metadata": {},
          "execution_count": 5
        }
      ]
    },
    {
      "cell_type": "code",
      "source": [
        "x = '12345'\n",
        "x = int(x)\n",
        "\n",
        "y = x + 2\n",
        "print(y)\n",
        "type(y)"
      ],
      "metadata": {
        "colab": {
          "base_uri": "https://localhost:8080/"
        },
        "id": "5TKrOjGlL3N7",
        "outputId": "dd6d4a3d-15a7-4449-f0a1-b08b0ebd1ce9"
      },
      "execution_count": null,
      "outputs": [
        {
          "output_type": "stream",
          "name": "stdout",
          "text": [
            "12347\n"
          ]
        },
        {
          "output_type": "execute_result",
          "data": {
            "text/plain": [
              "int"
            ]
          },
          "metadata": {},
          "execution_count": 7
        }
      ]
    },
    {
      "cell_type": "markdown",
      "source": [
        "Conditional operator"
      ],
      "metadata": {
        "id": "SVuhUMzog2S6"
      }
    },
    {
      "cell_type": "code",
      "source": [
        "# Conditional Operator\n",
        "# Check the number is greater than 20 or not?\n",
        "\n",
        "x = int(input(\"Enter the number: \"))\n",
        "if x < 20:\n",
        "  print(\"Number is smaller than 20\")\n",
        "elif x ==20:\n",
        "  print(\"Number is 20\")\n",
        "else:\n",
        "  print(\"Number is larger than 20\")"
      ],
      "metadata": {
        "colab": {
          "base_uri": "https://localhost:8080/"
        },
        "id": "0ATti1wdfzES",
        "outputId": "e14f3165-b662-4c7d-fbdf-670179966bd1"
      },
      "execution_count": null,
      "outputs": [
        {
          "output_type": "stream",
          "name": "stdout",
          "text": [
            "Enter the number: 5\n",
            "Number is smaller than 20\n"
          ]
        }
      ]
    },
    {
      "cell_type": "markdown",
      "source": [
        "Repeated operator"
      ],
      "metadata": {
        "id": "Leh5VmvVhmeB"
      }
    },
    {
      "cell_type": "code",
      "source": [
        "x = int(input(\"Enter the number: \"))\n",
        "while x > 0:\n",
        "  print(x)\n",
        "  x = x - 1\n",
        "print(\"Endpoint!!\")"
      ],
      "metadata": {
        "colab": {
          "base_uri": "https://localhost:8080/"
        },
        "id": "OYPHq_bshaKR",
        "outputId": "b179eb87-0ed8-40f4-8946-256db8d3aebe"
      },
      "execution_count": null,
      "outputs": [
        {
          "output_type": "stream",
          "name": "stdout",
          "text": [
            "Enter the number: 6\n",
            "6\n",
            "5\n",
            "4\n",
            "3\n",
            "2\n",
            "1\n",
            "Endpoint!!\n"
          ]
        }
      ]
    },
    {
      "cell_type": "markdown",
      "source": [
        "Looping and iteration"
      ],
      "metadata": {
        "id": "Psq8ij4RkksO"
      }
    },
    {
      "cell_type": "code",
      "source": [
        "for i in (5,4,3,2,1):\n",
        "  print(i)"
      ],
      "metadata": {
        "id": "TmdTOP62iKwD",
        "colab": {
          "base_uri": "https://localhost:8080/"
        },
        "outputId": "88b0fcf9-4965-41b7-851c-ffef835c9311"
      },
      "execution_count": 1,
      "outputs": [
        {
          "output_type": "stream",
          "name": "stdout",
          "text": [
            "5\n",
            "4\n",
            "3\n",
            "2\n",
            "1\n"
          ]
        }
      ]
    },
    {
      "cell_type": "code",
      "source": [
        "for i in range(0,6):\n",
        "  print(i)"
      ],
      "metadata": {
        "colab": {
          "base_uri": "https://localhost:8080/"
        },
        "id": "XBsuYGWbkwZi",
        "outputId": "d85e528e-a2d7-4a46-c12d-32619b46c078"
      },
      "execution_count": 2,
      "outputs": [
        {
          "output_type": "stream",
          "name": "stdout",
          "text": [
            "0\n",
            "1\n",
            "2\n",
            "3\n",
            "4\n",
            "5\n"
          ]
        }
      ]
    },
    {
      "cell_type": "code",
      "source": [
        ""
      ],
      "metadata": {
        "id": "FRF_nrGhk76S"
      },
      "execution_count": null,
      "outputs": []
    }
  ]
}