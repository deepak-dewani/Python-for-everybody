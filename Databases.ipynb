{
  "nbformat": 4,
  "nbformat_minor": 0,
  "metadata": {
    "colab": {
      "name": "Databases.ipynb",
      "provenance": [],
      "collapsed_sections": [],
      "authorship_tag": "ABX9TyMoa47JEcfB8gRvmjYh0pcZ",
      "include_colab_link": true
    },
    "kernelspec": {
      "name": "python3",
      "display_name": "Python 3"
    },
    "language_info": {
      "name": "python"
    }
  },
  "cells": [
    {
      "cell_type": "markdown",
      "metadata": {
        "id": "view-in-github",
        "colab_type": "text"
      },
      "source": [
        "<a href=\"https://colab.research.google.com/github/deepak-dewani/Python-for-everybody/blob/main/Databases.ipynb\" target=\"_parent\"><img src=\"https://colab.research.google.com/assets/colab-badge.svg\" alt=\"Open In Colab\"/></a>"
      ]
    },
    {
      "cell_type": "markdown",
      "source": [
        "# **Chapter - Python for Everybody**\n",
        "# **Databases**\n",
        "A database is a file that is organized for storing data. Most databases are organized like a dictionary in the sense that they map from keys to values. The biggest difference is that the database is on disk (or other permanent storage), so it persists after the program ends. Because a database is stored on permanent storage, it can store far more data than a dictionary, which is limited to the size of the memory in the computer.\n",
        "\n",
        "Like a dictionary, database software is designed to keep the inserting and accessing of data very fast, even for large amounts of data. Database software maintains its performance by building indexes as data is added to the database to allow the computer to jump quickly to a particular entry.\n",
        "\n",
        "There are many different database systems which are used for a wide variety of purposes including: Oracle, MySQL, Microsoft SQL Server, PostgreSQL, and SQLite. We focus on SQLite in this book because it is a very common database and is already built into Python. SQLite is designed to be embedded into other applications to provide database support within the application. For example, the Firefox browser also uses the SQLite database internally as do many other products."
      ],
      "metadata": {
        "id": "WUiFmoW3dDoy"
      }
    },
    {
      "cell_type": "markdown",
      "source": [
        "# **Creating a database table**\n",
        "Databases require more defined structure than Python lists or dictionaries1.\n",
        "\n",
        "When we create a database table we must tell the database in advance the names of each of the columns in the table and the type of data which we are planning to store in each column. When the database software knows the type of data in each column, it can choose the most efficient way to store and look up the data based on the type of data."
      ],
      "metadata": {
        "id": "-RYfJIoVdZdu"
      }
    },
    {
      "cell_type": "code",
      "execution_count": null,
      "metadata": {
        "id": "o60yYVPKc8jH"
      },
      "outputs": [],
      "source": [
        "import sqlite3\n",
        "\n",
        "conn = sqlite3.connect('music.sqlite')\n",
        "cur = conn.cursor()\n",
        "\n",
        "cur.execute('DROP TABLE IF EXISTS Tracks')\n",
        "cur.execute('CREATE TABLE Tracks (title TEXT, plays INTEGER)')\n",
        "\n",
        "conn.close()"
      ]
    },
    {
      "cell_type": "code",
      "source": [
        "import sqlite3\n",
        "\n",
        "conn = sqlite3.connect('music.sqlite')\n",
        "cur = conn.cursor()\n",
        "\n",
        "cur.execute('INSERT INTO Tracks (title, plays) VALUES (?, ?)',\n",
        "    ('Thunderstruck', 20))\n",
        "cur.execute('INSERT INTO Tracks (title, plays) VALUES (?, ?)',\n",
        "    ('My Way', 15))\n",
        "conn.commit()\n",
        "\n",
        "print('Tracks:')\n",
        "cur.execute('SELECT title, plays FROM Tracks')\n",
        "for row in cur:\n",
        "     print(row)\n",
        "\n",
        "cur.execute('DELETE FROM Tracks WHERE plays < 100')\n",
        "conn.commit()\n",
        "\n",
        "cur.close()"
      ],
      "metadata": {
        "colab": {
          "base_uri": "https://localhost:8080/"
        },
        "id": "JMxsgbNwdiov",
        "outputId": "d6f302d1-2797-48ce-c79f-8526b1f74df5"
      },
      "execution_count": null,
      "outputs": [
        {
          "output_type": "stream",
          "name": "stdout",
          "text": [
            "Tracks:\n",
            "('Thunderstruck', 20)\n",
            "('My Way', 15)\n"
          ]
        }
      ]
    },
    {
      "cell_type": "code",
      "source": [
        ""
      ],
      "metadata": {
        "id": "9BBvvJoNeg71"
      },
      "execution_count": null,
      "outputs": []
    }
  ]
}