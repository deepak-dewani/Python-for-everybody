{
  "nbformat": 4,
  "nbformat_minor": 0,
  "metadata": {
    "colab": {
      "name": "Conditional operator.ipynb",
      "provenance": [],
      "collapsed_sections": [],
      "authorship_tag": "ABX9TyNqMN1iaW+vPO3CsDF5k17T",
      "include_colab_link": true
    },
    "kernelspec": {
      "name": "python3",
      "display_name": "Python 3"
    },
    "language_info": {
      "name": "python"
    }
  },
  "cells": [
    {
      "cell_type": "markdown",
      "metadata": {
        "id": "view-in-github",
        "colab_type": "text"
      },
      "source": [
        "<a href=\"https://colab.research.google.com/github/deepak-dewani/Python-for-everybody/blob/main/02_Conditional_operator.ipynb\" target=\"_parent\"><img src=\"https://colab.research.google.com/assets/colab-badge.svg\" alt=\"Open In Colab\"/></a>"
      ]
    },
    {
      "cell_type": "code",
      "execution_count": null,
      "metadata": {
        "id": "pJgW8SpBC2us",
        "colab": {
          "base_uri": "https://localhost:8080/"
        },
        "outputId": "2c7776f2-7aa2-4d45-cc5b-dea7032be742"
      },
      "outputs": [
        {
          "output_type": "stream",
          "name": "stdout",
          "text": [
            "Enter the number: 5\n",
            "Number is smaller than 20\n"
          ]
        }
      ],
      "source": [
        "# Conditional Operator\n",
        "# Check the number is greater than 20 or not?\n",
        "\n",
        "x = int(input(\"Enter the number: \"))\n",
        "if x < 20:\n",
        "  print(\"Number is smaller than 20\")\n",
        "elif x ==20:\n",
        "  print(\"Number is 20\")\n",
        "else:\n",
        "  print(\"Number is larger than 20\")"
      ]
    }
  ]
}